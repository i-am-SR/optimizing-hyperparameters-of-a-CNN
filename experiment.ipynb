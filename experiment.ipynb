{
  "nbformat": 4,
  "nbformat_minor": 0,
  "metadata": {
    "colab": {
      "name": "experiment.ipynb",
      "provenance": [],
      "collapsed_sections": []
    },
    "kernelspec": {
      "name": "python3",
      "display_name": "Python 3"
    },
    "language_info": {
      "codemirror_mode": {
        "name": "ipython",
        "version": 3
      },
      "file_extension": ".py",
      "mimetype": "text/x-python",
      "name": "python",
      "nbconvert_exporter": "python",
      "pygments_lexer": "ipython3",
      "version": "3.7.4"
    },
    "accelerator": "GPU"
  },
  "cells": [
    {
      "cell_type": "code",
      "metadata": {
        "id": "zHydg_10HsGt",
        "colab_type": "code",
        "outputId": "90c4386d-004f-4402-aa2e-1ccd0ab6828e",
        "colab": {
          "base_uri": "https://localhost:8080/",
          "height": 318
        }
      },
      "source": [
        "!nvidia-smi"
      ],
      "execution_count": 0,
      "outputs": [
        {
          "output_type": "stream",
          "text": [
            "Sat Dec  7 20:02:11 2019       \n",
            "+-----------------------------------------------------------------------------+\n",
            "| NVIDIA-SMI 440.33.01    Driver Version: 418.67       CUDA Version: 10.1     |\n",
            "|-------------------------------+----------------------+----------------------+\n",
            "| GPU  Name        Persistence-M| Bus-Id        Disp.A | Volatile Uncorr. ECC |\n",
            "| Fan  Temp  Perf  Pwr:Usage/Cap|         Memory-Usage | GPU-Util  Compute M. |\n",
            "|===============================+======================+======================|\n",
            "|   0  Tesla K80           Off  | 00000000:00:04.0 Off |                    0 |\n",
            "| N/A   68C    P8    33W / 149W |      0MiB / 11441MiB |      0%      Default |\n",
            "+-------------------------------+----------------------+----------------------+\n",
            "                                                                               \n",
            "+-----------------------------------------------------------------------------+\n",
            "| Processes:                                                       GPU Memory |\n",
            "|  GPU       PID   Type   Process name                             Usage      |\n",
            "|=============================================================================|\n",
            "|  No running processes found                                                 |\n",
            "+-----------------------------------------------------------------------------+\n"
          ],
          "name": "stdout"
        }
      ]
    },
    {
      "cell_type": "code",
      "metadata": {
        "id": "TMDrFvIOaA1N",
        "colab_type": "code",
        "outputId": "36100b60-ae20-4d6f-8c97-1bbc6c66db6a",
        "colab": {
          "base_uri": "https://localhost:8080/",
          "height": 63
        }
      },
      "source": [
        "from numpy.random import seed\n",
        "seed(42)\n",
        "from tensorflow import set_random_seed\n",
        "set_random_seed(42)"
      ],
      "execution_count": 0,
      "outputs": [
        {
          "output_type": "display_data",
          "data": {
            "text/html": [
              "<p style=\"color: red;\">\n",
              "The default version of TensorFlow in Colab will soon switch to TensorFlow 2.x.<br>\n",
              "We recommend you <a href=\"https://www.tensorflow.org/guide/migrate\" target=\"_blank\">upgrade</a> now \n",
              "or ensure your notebook will continue to use TensorFlow 1.x via the <code>%tensorflow_version 1.x</code> magic:\n",
              "<a href=\"https://colab.research.google.com/notebooks/tensorflow_version.ipynb\" target=\"_blank\">more info</a>.</p>\n"
            ],
            "text/plain": [
              "<IPython.core.display.HTML object>"
            ]
          },
          "metadata": {
            "tags": []
          }
        }
      ]
    },
    {
      "cell_type": "code",
      "metadata": {
        "colab_type": "code",
        "id": "Wwpntgt1K9Df",
        "colab": {}
      },
      "source": [
        "from tensorflow import keras\n",
        "from tensorflow.keras.layers import Input, Conv2D, Dense, Dropout, Flatten\n",
        "from tensorflow.keras.models import Model\n",
        "from tensorflow.keras.optimizers import SGD, RMSprop\n",
        "from tensorflow.keras.utils import plot_model\n",
        "from tensorflow.keras import backend as K\n",
        "from scipy.io import loadmat\n",
        "import matplotlib.pyplot as plt\n",
        "import numpy as np\n",
        "import os"
      ],
      "execution_count": 0,
      "outputs": []
    },
    {
      "cell_type": "markdown",
      "metadata": {
        "id": "cuoQi7kRX1-Z",
        "colab_type": "text"
      },
      "source": [
        "# Model & Data Setup\n",
        "You should not have to make any modifications to the below code (unless your\n",
        "specific part requires it)\n",
        "\n",
        "Also -- the changing Learning Rate has not been implemented in the model, so \n",
        "that will require a change"
      ]
    },
    {
      "cell_type": "code",
      "metadata": {
        "id": "HywthfQaLlWg",
        "colab_type": "code",
        "colab": {}
      },
      "source": [
        "def load_data(loc):\n",
        "    data = loadmat(loc)\n",
        "    return data['X'], data['y']"
      ],
      "execution_count": 0,
      "outputs": []
    },
    {
      "cell_type": "code",
      "metadata": {
        "id": "IGpPZzwOLpor",
        "colab_type": "code",
        "outputId": "346e8c69-8af8-443c-d7db-4eaeab731afd",
        "colab": {
          "base_uri": "https://localhost:8080/",
          "height": 407
        }
      },
      "source": [
        "if not os.path.exists('data'):\n",
        "    ! mkdir data\n",
        "    ! wget http://ufldl.stanford.edu/housenumbers/train_32x32.mat\n",
        "    ! wget http://ufldl.stanford.edu/housenumbers/test_32x32.mat\n",
        "    # ! wget http://ufldl.stanford.edu/housenumbers/extra_32x32.mat\n",
        "    ! mv *.mat data"
      ],
      "execution_count": 0,
      "outputs": [
        {
          "output_type": "stream",
          "text": [
            "--2019-12-07 20:02:18--  http://ufldl.stanford.edu/housenumbers/train_32x32.mat\n",
            "Resolving ufldl.stanford.edu (ufldl.stanford.edu)... 171.64.68.10\n",
            "Connecting to ufldl.stanford.edu (ufldl.stanford.edu)|171.64.68.10|:80... connected.\n",
            "HTTP request sent, awaiting response... 200 OK\n",
            "Length: 182040794 (174M) [text/plain]\n",
            "Saving to: ‘train_32x32.mat’\n",
            "\n",
            "train_32x32.mat     100%[===================>] 173.61M  14.8MB/s    in 14s     \n",
            "\n",
            "2019-12-07 20:02:33 (12.0 MB/s) - ‘train_32x32.mat’ saved [182040794/182040794]\n",
            "\n",
            "--2019-12-07 20:02:34--  http://ufldl.stanford.edu/housenumbers/test_32x32.mat\n",
            "Resolving ufldl.stanford.edu (ufldl.stanford.edu)... 171.64.68.10\n",
            "Connecting to ufldl.stanford.edu (ufldl.stanford.edu)|171.64.68.10|:80... connected.\n",
            "HTTP request sent, awaiting response... 200 OK\n",
            "Length: 64275384 (61M) [text/plain]\n",
            "Saving to: ‘test_32x32.mat’\n",
            "\n",
            "test_32x32.mat      100%[===================>]  61.30M  13.9MB/s    in 5.7s    \n",
            "\n",
            "2019-12-07 20:02:40 (10.7 MB/s) - ‘test_32x32.mat’ saved [64275384/64275384]\n",
            "\n"
          ],
          "name": "stdout"
        }
      ]
    },
    {
      "cell_type": "code",
      "metadata": {
        "id": "tUjGSSctLlWm",
        "colab_type": "code",
        "outputId": "d10f4449-2d47-4c90-c2b6-03d2f10f92f4",
        "colab": {
          "base_uri": "https://localhost:8080/",
          "height": 52
        }
      },
      "source": [
        "X_train, Y_train = load_data('data/train_32x32.mat')\n",
        "X_test, Y_test = load_data('data/test_32x32.mat')\n",
        "X_train = np.transpose(X_train, (3,0,1,2))\n",
        "X_test = np.transpose(X_test, (3,0,1,2))\n",
        "print(\"Training Set\", X_train.shape, Y_train.shape)\n",
        "print(\"Test Set\", X_test.shape, Y_test.shape)"
      ],
      "execution_count": 0,
      "outputs": [
        {
          "output_type": "stream",
          "text": [
            "Training Set (73257, 32, 32, 3) (73257, 1)\n",
            "Test Set (26032, 32, 32, 3) (26032, 1)\n"
          ],
          "name": "stdout"
        }
      ]
    },
    {
      "cell_type": "code",
      "metadata": {
        "id": "DtNwdGLFLlWt",
        "colab_type": "code",
        "colab": {}
      },
      "source": [
        "normalizer = 1/255\n",
        "X_train = X_train * normalizer\n",
        "X_test = X_test * normalizer"
      ],
      "execution_count": 0,
      "outputs": []
    },
    {
      "cell_type": "code",
      "metadata": {
        "id": "9F8BkS4oLlXG",
        "colab_type": "code",
        "colab": {}
      },
      "source": [
        "def data_size(trX, trY, tsX, tsY, trNum=10000, tsNum=2000, valNum=500):\n",
        "    vals = [1, 2, 3, 4, 5, 6, 7, 8, 9, 10]\n",
        "    newTrX = []\n",
        "    newTrY = []\n",
        "    newTsX = []\n",
        "    newTsY = []\n",
        "    valX = []\n",
        "    valY = []\n",
        "    for i in vals:\n",
        "        indices = np.where(trY == [i])[0]\n",
        "        for num in range((int)(trNum/10)):\n",
        "            newTrX.append(trX[indices[num]])\n",
        "            newTrY.append(trY[indices[num]][0])\n",
        "        indices = np.where(tsY == [i])[0]\n",
        "        for num in range(((int)(tsNum/10))+((int)(valNum/10))):\n",
        "            if num < (tsNum/10):\n",
        "                newTsX.append(tsX[indices[num]])\n",
        "                newTsY.append(tsY[indices[num]][0])\n",
        "            else:\n",
        "                #valX.append(tsX[indices[num]])\n",
        "                valX.append(np.copy(tsX[indices[num]]))\n",
        "                valY.append(tsY[indices[num]][0])\n",
        "    \n",
        "    return np.asarray(newTrX).reshape(trNum, 32, 32, 3), np.asarray(newTrY).reshape(trNum, 1), np.asarray(newTsX).reshape(tsNum, 32, 32, 3), np.asarray(newTsY).reshape(tsNum, 1), np.asarray(valX).reshape(valNum, 32, 32, 3), np.asarray(valY).reshape(valNum,1)"
      ],
      "execution_count": 0,
      "outputs": []
    },
    {
      "cell_type": "code",
      "metadata": {
        "id": "WVIHEUiBLlXL",
        "colab_type": "code",
        "colab": {}
      },
      "source": [
        "trX, trY, tsX, tsY, valX, valY = data_size(X_train, Y_train, X_test, Y_test)"
      ],
      "execution_count": 0,
      "outputs": []
    },
    {
      "cell_type": "code",
      "metadata": {
        "id": "dJk5SscfLlXQ",
        "colab_type": "code",
        "outputId": "e6e85b85-5b01-4162-a2a2-e16b1567b2cb",
        "colab": {
          "base_uri": "https://localhost:8080/",
          "height": 123
        }
      },
      "source": [
        "print(trX.shape)\n",
        "print(trY.shape)\n",
        "print(tsX.shape)\n",
        "print(tsY.shape)\n",
        "print(valX.shape)\n",
        "print(valY.shape)\n",
        "trY[trY == 10] = 0\n",
        "tsY[tsY == 10] = 0\n",
        "valY[valY == 10] = 0\n",
        "trY = keras.utils.to_categorical(trY, 10)\n",
        "tsY = keras.utils.to_categorical(tsY, 10)\n",
        "valY = keras.utils.to_categorical(valY, 10)"
      ],
      "execution_count": 0,
      "outputs": [
        {
          "output_type": "stream",
          "text": [
            "(10000, 32, 32, 3)\n",
            "(10000, 1)\n",
            "(2000, 32, 32, 3)\n",
            "(2000, 1)\n",
            "(500, 32, 32, 3)\n",
            "(500, 1)\n"
          ],
          "name": "stdout"
        }
      ]
    },
    {
      "cell_type": "code",
      "metadata": {
        "id": "aM6NjYKkMEVS",
        "colab_type": "code",
        "outputId": "b2d14e37-f73a-4769-bb47-69131935a35c",
        "colab": {
          "base_uri": "https://localhost:8080/",
          "height": 123
        }
      },
      "source": [
        "print(trX.shape)\n",
        "print(trY.shape)\n",
        "print(tsX.shape)\n",
        "print(tsY.shape)\n",
        "print(valX.shape)\n",
        "print(valY.shape)"
      ],
      "execution_count": 0,
      "outputs": [
        {
          "output_type": "stream",
          "text": [
            "(10000, 32, 32, 3)\n",
            "(10000, 10)\n",
            "(2000, 32, 32, 3)\n",
            "(2000, 10)\n",
            "(500, 32, 32, 3)\n",
            "(500, 10)\n"
          ],
          "name": "stdout"
        }
      ]
    },
    {
      "cell_type": "code",
      "metadata": {
        "colab_type": "code",
        "id": "6-34B9WeLmcj",
        "colab": {}
      },
      "source": [
        "# DO NOT MODIFY THIS METHOD\n",
        "class CNN_Model():\n",
        "    def __init__(self, lr_0=0.01, delta=1e-6, B=32, p_1=0.1, p_2=0.1):\n",
        "        '''\n",
        "        All the parameters exposed are those we need to tune for the]\n",
        "        project\n",
        "        '''\n",
        "\n",
        "        self.lr_0 = lr_0 # Starting Learning Rate\n",
        "        self.delta = delta # Learning Rate Decay\n",
        "        self.B = B # Mini-Batch Size\n",
        "        self.p_1 = p_1 # Dropout Parameter 1\n",
        "        self.p_2 = p_2 # Dropout Parameter 2\n",
        "    \n",
        "    def define_model(self):\n",
        "        '''\n",
        "        Defines the model with the given parameters\n",
        "        TODO: Learning Rate Decay in Keras\n",
        "        '''\n",
        "        DATAFORMAT = \"channels_last\"\n",
        "\n",
        "        # Input to model\n",
        "        inputs = Input(shape=(32, 32, 3), name='input') # TODO: assuming input size is 784\n",
        "        # Convolutional Layers\n",
        "        conv1 = Conv2D(filters=32, kernel_size=(5,5), padding='same',\n",
        "                       data_format=DATAFORMAT, strides=1, name='conv1')(inputs)\n",
        "        conv2 = Conv2D(filters=64, kernel_size=(3,3), padding='same',\n",
        "                       data_format=DATAFORMAT, strides=1, name='conv2')(conv1)\n",
        "        conv3 = Conv2D(filters=128, kernel_size=(3,3), padding='same',\n",
        "                       data_format=DATAFORMAT, strides=1, name='conv3')(conv2)\n",
        "\n",
        "        flatten = Flatten(data_format=DATAFORMAT)(conv3)\n",
        "        \n",
        "        # Fully-Connected Layers\n",
        "        fc1 = Dense(1024, activation='relu', name='fc1')(flatten)\n",
        "        drop1 = Dropout(self.p_1, name='drop1')(fc1)\n",
        "        fc2 = Dense(1024, activation='relu', name='fc2')(drop1)\n",
        "        drop2 = Dropout(self.p_2, name='drop2')(fc2)\n",
        "        fc3 = Dense(10, activation='softmax', name='output')(drop2)\n",
        "\n",
        "        model_ = Model(inputs=inputs, outputs=fc3)\n",
        "        optim = SGD(lr=self.lr_0, decay=self.delta)\n",
        "        model_.compile(optimizer=optim,\n",
        "                    loss='categorical_crossentropy',\n",
        "                    metrics=['accuracy'])\n",
        "        self.model = model_\n",
        "    \n",
        "    def train_model(self, x, y, valX=None, valY=None, epochs=15):\n",
        "        '''\n",
        "        Trains the model.\n",
        "        '''\n",
        "        val_data = (valX, valY)\n",
        "        self.train_history = self.model.fit(x, y, batch_size=self.B, epochs=epochs, verbose=0,\n",
        "                    validation_data=val_data)\n",
        "        \n"
      ],
      "execution_count": 0,
      "outputs": []
    },
    {
      "cell_type": "code",
      "metadata": {
        "colab_type": "code",
        "id": "ODgEk51vPWm0",
        "outputId": "4be8089a-ebb6-4d2d-9272-4bf4e0a5e10f",
        "colab": {
          "base_uri": "https://localhost:8080/",
          "height": 953
        }
      },
      "source": [
        "cnn = CNN_Model(B=1024)\n",
        "cnn.define_model()\n",
        "plot_model(cnn.model)"
      ],
      "execution_count": 0,
      "outputs": [
        {
          "output_type": "execute_result",
          "data": {
            "image/png": "[encoded data removed]",
            "text/plain": [
              "<IPython.core.display.Image object>"
            ]
          },
          "metadata": {
            "tags": []
          },
          "execution_count": 26
        }
      ]
    },
    {
      "cell_type": "code",
      "metadata": {
        "colab_type": "code",
        "id": "Ldr7WG1wR6d1",
        "colab": {}
      },
      "source": [
        "#cnn.train_model(trX, trY, valX, valY)"
      ],
      "execution_count": 0,
      "outputs": []
    },
    {
      "cell_type": "markdown",
      "metadata": {
        "id": "Dx1cgMJIXyWM",
        "colab_type": "text"
      },
      "source": [
        "# Hyperparameter Experiments"
      ]
    },
    {
      "cell_type": "markdown",
      "metadata": {
        "id": "d3xOipVxw2Eb",
        "colab_type": "text"
      },
      "source": [
        "## Using Grid Search"
      ]
    },
    {
      "cell_type": "code",
      "metadata": {
        "id": "rGg-JReMtfRV",
        "colab_type": "code",
        "colab": {}
      },
      "source": [
        "grid_lr = [1e-1, 1e-3, 1e-5, 1e-6] # ref: https://bit.ly/2L9Frj7\n",
        "grid_delta = [0, 1e-1, 1e-3, 1e-4, 1e-6, 1e-8, 1e-10]\n",
        "grid_B = [32, 64, 128, 256, 512, 1024][::-1]\n",
        "grid_p1 = [0.1*i for i in range(1,6)]\n",
        "grid_p2 = [0.1*i for i in range(1,6)]\n",
        "\n"
      ],
      "execution_count": 0,
      "outputs": []
    },
    {
      "cell_type": "code",
      "metadata": {
        "id": "huIHpN6ZvWwW",
        "colab_type": "code",
        "colab": {}
      },
      "source": [
        "grid_lr = [1e-3, 1e-5, 1e-6] # ref: https://bit.ly/2L9Frj7\n",
        "grid_delta = [0, 1e-1, 1e-3, 1e-4, 1e-6, 1e-8, 1e-10]\n",
        "grid_B = [32, 64, 128, 256, 512, 1024][::-1]\n",
        "grid_p1 = [0.1*i for i in range(1,6)]\n",
        "grid_p2 = [0.1*i for i in range(1,6)]\n",
        "\n",
        "from random import shuffle"
      ],
      "execution_count": 0,
      "outputs": []
    },
    {
      "cell_type": "code",
      "metadata": {
        "id": "UJ6ZVIejvEDj",
        "colab_type": "code",
        "outputId": "0455eaa2-eba2-405a-cd4d-19f2cd5197f9",
        "colab": {
          "base_uri": "https://localhost:8080/",
          "height": 852
        }
      },
      "source": [
        "# Grid Search!\n",
        "best_val_loss = 1.4572559852600098\n",
        "best_params = {'lr': 0.1, 'delta': 0.1, 'B': 128, 'p1': 0.4, 'p2': 0.1, 'iteration': 241}\n",
        "gs_iteration = 885\n",
        "best_iteration = 241\n",
        "search_space = []\n",
        "## hacky but gets the job done\n",
        "for lr in grid_lr:\n",
        "    for delta in grid_delta:\n",
        "        for B in grid_B:\n",
        "            for p1 in grid_p1:\n",
        "                for p2 in grid_p2:\n",
        "                    search_space.append((lr, delta, B, p1, p2))\n",
        "shuffle(search_space)\n",
        "for lr, delta, B, p1, p2 in search_space:\n",
        "    gs_iteration += 1\n",
        "    if (gs_iteration % 5) == 0:\n",
        "        print(f'Iteration {gs_iteration}: Val Loss={best_val_loss}. Params={best_params}')\n",
        "    cnn = CNN_Model(lr_0=lr, delta=delta, B=B, p_1=p1, p_2=p2)\n",
        "    cnn.define_model()\n",
        "    cnn.train_model(trX, trY, valX, valY)\n",
        "    val_loss = np.nanmin(cnn.train_history.history['val_loss']) # ignore nan's\n",
        "    del(cnn)\n",
        "    K.clear_session()\n",
        "\n",
        "    if val_loss < best_val_loss:\n",
        "        best_val_loss = val_loss\n",
        "        best_params = {'lr':lr, 'delta':delta, 'B':B, 'p1': p1,\n",
        "                        'p2': p2, 'iteration': gs_iteration}\n",
        "        best_iteration = gs_iteration\n",
        "        print('New best val loss!')\n",
        "        print(f'Iteration {gs_iteration}: Val Loss={best_val_loss}. Params={best_params}')                    "
      ],
      "execution_count": 0,
      "outputs": [
        {
          "output_type": "stream",
          "text": [
            "Iteration 890: Val Loss=1.4572559852600098. Params={'lr': 0.1, 'delta': 0.1, 'B': 128, 'p1': 0.4, 'p2': 0.1, 'iteration': 241}\n",
            "Iteration 895: Val Loss=1.4572559852600098. Params={'lr': 0.1, 'delta': 0.1, 'B': 128, 'p1': 0.4, 'p2': 0.1, 'iteration': 241}\n",
            "Iteration 900: Val Loss=1.4572559852600098. Params={'lr': 0.1, 'delta': 0.1, 'B': 128, 'p1': 0.4, 'p2': 0.1, 'iteration': 241}\n",
            "New best val loss!\n",
            "Iteration 900: Val Loss=1.3852515563964845. Params={'lr': 0.001, 'delta': 0, 'B': 32, 'p1': 0.2, 'p2': 0.1, 'iteration': 900}\n",
            "Iteration 905: Val Loss=1.3852515563964845. Params={'lr': 0.001, 'delta': 0, 'B': 32, 'p1': 0.2, 'p2': 0.1, 'iteration': 900}\n",
            "Iteration 910: Val Loss=1.3852515563964845. Params={'lr': 0.001, 'delta': 0, 'B': 32, 'p1': 0.2, 'p2': 0.1, 'iteration': 900}\n",
            "Iteration 915: Val Loss=1.3852515563964845. Params={'lr': 0.001, 'delta': 0, 'B': 32, 'p1': 0.2, 'p2': 0.1, 'iteration': 900}\n",
            "Iteration 920: Val Loss=1.3852515563964845. Params={'lr': 0.001, 'delta': 0, 'B': 32, 'p1': 0.2, 'p2': 0.1, 'iteration': 900}\n",
            "Iteration 925: Val Loss=1.3852515563964845. Params={'lr': 0.001, 'delta': 0, 'B': 32, 'p1': 0.2, 'p2': 0.1, 'iteration': 900}\n",
            "Iteration 930: Val Loss=1.3852515563964845. Params={'lr': 0.001, 'delta': 0, 'B': 32, 'p1': 0.2, 'p2': 0.1, 'iteration': 900}\n",
            "Iteration 935: Val Loss=1.3852515563964845. Params={'lr': 0.001, 'delta': 0, 'B': 32, 'p1': 0.2, 'p2': 0.1, 'iteration': 900}\n",
            "Iteration 940: Val Loss=1.3852515563964845. Params={'lr': 0.001, 'delta': 0, 'B': 32, 'p1': 0.2, 'p2': 0.1, 'iteration': 900}\n",
            "Iteration 945: Val Loss=1.3852515563964845. Params={'lr': 0.001, 'delta': 0, 'B': 32, 'p1': 0.2, 'p2': 0.1, 'iteration': 900}\n",
            "Iteration 950: Val Loss=1.3852515563964845. Params={'lr': 0.001, 'delta': 0, 'B': 32, 'p1': 0.2, 'p2': 0.1, 'iteration': 900}\n",
            "Iteration 955: Val Loss=1.3852515563964845. Params={'lr': 0.001, 'delta': 0, 'B': 32, 'p1': 0.2, 'p2': 0.1, 'iteration': 900}\n",
            "Iteration 960: Val Loss=1.3852515563964845. Params={'lr': 0.001, 'delta': 0, 'B': 32, 'p1': 0.2, 'p2': 0.1, 'iteration': 900}\n",
            "Iteration 965: Val Loss=1.3852515563964845. Params={'lr': 0.001, 'delta': 0, 'B': 32, 'p1': 0.2, 'p2': 0.1, 'iteration': 900}\n",
            "Iteration 970: Val Loss=1.3852515563964845. Params={'lr': 0.001, 'delta': 0, 'B': 32, 'p1': 0.2, 'p2': 0.1, 'iteration': 900}\n",
            "Iteration 975: Val Loss=1.3852515563964845. Params={'lr': 0.001, 'delta': 0, 'B': 32, 'p1': 0.2, 'p2': 0.1, 'iteration': 900}\n",
            "Iteration 980: Val Loss=1.3852515563964845. Params={'lr': 0.001, 'delta': 0, 'B': 32, 'p1': 0.2, 'p2': 0.1, 'iteration': 900}\n",
            "Iteration 985: Val Loss=1.3852515563964845. Params={'lr': 0.001, 'delta': 0, 'B': 32, 'p1': 0.2, 'p2': 0.1, 'iteration': 900}\n",
            "Iteration 990: Val Loss=1.3852515563964845. Params={'lr': 0.001, 'delta': 0, 'B': 32, 'p1': 0.2, 'p2': 0.1, 'iteration': 900}\n",
            "Iteration 995: Val Loss=1.3852515563964845. Params={'lr': 0.001, 'delta': 0, 'B': 32, 'p1': 0.2, 'p2': 0.1, 'iteration': 900}\n",
            "Iteration 1000: Val Loss=1.3852515563964845. Params={'lr': 0.001, 'delta': 0, 'B': 32, 'p1': 0.2, 'p2': 0.1, 'iteration': 900}\n",
            "Iteration 1005: Val Loss=1.3852515563964845. Params={'lr': 0.001, 'delta': 0, 'B': 32, 'p1': 0.2, 'p2': 0.1, 'iteration': 900}\n",
            "Iteration 1010: Val Loss=1.3852515563964845. Params={'lr': 0.001, 'delta': 0, 'B': 32, 'p1': 0.2, 'p2': 0.1, 'iteration': 900}\n",
            "Iteration 1015: Val Loss=1.3852515563964845. Params={'lr': 0.001, 'delta': 0, 'B': 32, 'p1': 0.2, 'p2': 0.1, 'iteration': 900}\n",
            "Iteration 1020: Val Loss=1.3852515563964845. Params={'lr': 0.001, 'delta': 0, 'B': 32, 'p1': 0.2, 'p2': 0.1, 'iteration': 900}\n",
            "New best val loss!\n",
            "Iteration 1020: Val Loss=1.3616904706954955. Params={'lr': 0.001, 'delta': 1e-08, 'B': 32, 'p1': 0.2, 'p2': 0.2, 'iteration': 1020}\n",
            "Iteration 1025: Val Loss=1.3616904706954955. Params={'lr': 0.001, 'delta': 1e-08, 'B': 32, 'p1': 0.2, 'p2': 0.2, 'iteration': 1020}\n",
            "Iteration 1030: Val Loss=1.3616904706954955. Params={'lr': 0.001, 'delta': 1e-08, 'B': 32, 'p1': 0.2, 'p2': 0.2, 'iteration': 1020}\n",
            "Iteration 1035: Val Loss=1.3616904706954955. Params={'lr': 0.001, 'delta': 1e-08, 'B': 32, 'p1': 0.2, 'p2': 0.2, 'iteration': 1020}\n",
            "Iteration 1040: Val Loss=1.3616904706954955. Params={'lr': 0.001, 'delta': 1e-08, 'B': 32, 'p1': 0.2, 'p2': 0.2, 'iteration': 1020}\n",
            "Iteration 1045: Val Loss=1.3616904706954955. Params={'lr': 0.001, 'delta': 1e-08, 'B': 32, 'p1': 0.2, 'p2': 0.2, 'iteration': 1020}\n",
            "Iteration 1050: Val Loss=1.3616904706954955. Params={'lr': 0.001, 'delta': 1e-08, 'B': 32, 'p1': 0.2, 'p2': 0.2, 'iteration': 1020}\n",
            "Iteration 1055: Val Loss=1.3616904706954955. Params={'lr': 0.001, 'delta': 1e-08, 'B': 32, 'p1': 0.2, 'p2': 0.2, 'iteration': 1020}\n",
            "Iteration 1060: Val Loss=1.3616904706954955. Params={'lr': 0.001, 'delta': 1e-08, 'B': 32, 'p1': 0.2, 'p2': 0.2, 'iteration': 1020}\n",
            "Iteration 1065: Val Loss=1.3616904706954955. Params={'lr': 0.001, 'delta': 1e-08, 'B': 32, 'p1': 0.2, 'p2': 0.2, 'iteration': 1020}\n",
            "Iteration 1070: Val Loss=1.3616904706954955. Params={'lr': 0.001, 'delta': 1e-08, 'B': 32, 'p1': 0.2, 'p2': 0.2, 'iteration': 1020}\n",
            "Iteration 1075: Val Loss=1.3616904706954955. Params={'lr': 0.001, 'delta': 1e-08, 'B': 32, 'p1': 0.2, 'p2': 0.2, 'iteration': 1020}\n",
            "Iteration 1080: Val Loss=1.3616904706954955. Params={'lr': 0.001, 'delta': 1e-08, 'B': 32, 'p1': 0.2, 'p2': 0.2, 'iteration': 1020}\n",
            "Iteration 1085: Val Loss=1.3616904706954955. Params={'lr': 0.001, 'delta': 1e-08, 'B': 32, 'p1': 0.2, 'p2': 0.2, 'iteration': 1020}\n",
            "Iteration 1090: Val Loss=1.3616904706954955. Params={'lr': 0.001, 'delta': 1e-08, 'B': 32, 'p1': 0.2, 'p2': 0.2, 'iteration': 1020}\n",
            "Iteration 1095: Val Loss=1.3616904706954955. Params={'lr': 0.001, 'delta': 1e-08, 'B': 32, 'p1': 0.2, 'p2': 0.2, 'iteration': 1020}\n",
            "Iteration 1100: Val Loss=1.3616904706954955. Params={'lr': 0.001, 'delta': 1e-08, 'B': 32, 'p1': 0.2, 'p2': 0.2, 'iteration': 1020}\n"
          ],
          "name": "stdout"
        }
      ]
    },
    {
      "cell_type": "code",
      "metadata": {
        "id": "tdQRycLW3nKq",
        "colab_type": "code",
        "colab": {}
      },
      "source": [
        "print(f'Best Validation Loss:\\t {best_val_loss}')\n",
        "print(f'Best parameters:\\t {best_params} ')\n",
        "print(f'Number of total iterations: \\t {gs_iteration}')\n",
        "print(f'Best iteration:\\t {best_iteration}')"
      ],
      "execution_count": 0,
      "outputs": []
    },
    {
      "cell_type": "markdown",
      "metadata": {
        "id": "l1BeBygHw50S",
        "colab_type": "text"
      },
      "source": [
        "## Using Bayesian Global Optimization"
      ]
    },
    {
      "cell_type": "code",
      "metadata": {
        "id": "VECaYEzqw7-s",
        "colab_type": "code",
        "outputId": "180f77e5-9844-4a3d-a8a9-4e5459ffa0c4",
        "colab": {
          "base_uri": "https://localhost:8080/",
          "height": 267
        }
      },
      "source": [
        "!pip install bayesian-optimization\n",
        "# Using Open-Source Bayesian-Optimization library:\n",
        "# https://github.com/fmfn/BayesianOptimization"
      ],
      "execution_count": 0,
      "outputs": [
        {
          "output_type": "stream",
          "text": [
            "Collecting bayesian-optimization\n",
            "  Downloading https://files.pythonhosted.org/packages/72/0c/173ac467d0a53e33e41b521e4ceba74a8ac7c7873d7b857a8fbdca88302d/bayesian-optimization-1.0.1.tar.gz\n",
            "Requirement already satisfied: numpy>=1.9.0 in /usr/local/lib/python3.6/dist-packages (from bayesian-optimization) (1.17.4)\n",
            "Requirement already satisfied: scipy>=0.14.0 in /usr/local/lib/python3.6/dist-packages (from bayesian-optimization) (1.3.2)\n",
            "Requirement already satisfied: scikit-learn>=0.18.0 in /usr/local/lib/python3.6/dist-packages (from bayesian-optimization) (0.21.3)\n",
            "Requirement already satisfied: joblib>=0.11 in /usr/local/lib/python3.6/dist-packages (from scikit-learn>=0.18.0->bayesian-optimization) (0.14.0)\n",
            "Building wheels for collected packages: bayesian-optimization\n",
            "  Building wheel for bayesian-optimization (setup.py) ... \u001b[?25l\u001b[?25hdone\n",
            "  Created wheel for bayesian-optimization: filename=bayesian_optimization-1.0.1-cp36-none-any.whl size=10032 sha256=585dbef8de1c0134bcb2a6aba72df78ae647a7b2ce12beba26ebd5a8755dd419\n",
            "  Stored in directory: /root/.cache/pip/wheels/1d/0d/3b/6b9d4477a34b3905f246ff4e7acf6aafd4cc9b77d473629b77\n",
            "Successfully built bayesian-optimization\n",
            "Installing collected packages: bayesian-optimization\n",
            "Successfully installed bayesian-optimization-1.0.1\n"
          ],
          "name": "stdout"
        }
      ]
    },
    {
      "cell_type": "code",
      "metadata": {
        "id": "rvFzgZQr3AYX",
        "colab_type": "code",
        "outputId": "559de872-6f2c-4e82-8eee-67873ab5fffe",
        "colab": {
          "base_uri": "https://localhost:8080/",
          "height": 1000
        }
      },
      "source": [
        "from bayes_opt import BayesianOptimization\n",
        "\n",
        "def func(lr_0, B, delta, p_1, p_2):\n",
        "    B = max(int(B*320),1)\n",
        "    cnn = CNN_Model(lr_0, delta, B, p_1, p_2)\n",
        "    cnn.define_model()\n",
        "    cnn.train_model(trX, trY, valX, valY)\n",
        "    val_loss = np.nanmin(cnn.train_history.history['val_loss'])\n",
        "    #print('loss:', val_loss)\n",
        "    del cnn\n",
        "    K.clear_session()\n",
        "    return (-1*val_loss) # nigative value to be fed to the maximize function\n",
        "\n",
        "#param_bounds = {'lr_0': (1e-6, 1e-2), 'delta': (1e-2, 1e-10), 'B': (32, 1024), 'p_1': (0.1, 0.5), 'p_2': (0.1, 0.5)}\n",
        "param_bounds = {\n",
        "    'lr_0': (1e-6, 1e-1),\n",
        "    'delta': (1e-10, 0),\n",
        "    'B': (0.1, 3.2),\n",
        "    'p_1': (0.1, 0.6),\n",
        "    'p_2': (0.1, 0.6)\n",
        "    }\n",
        "\n",
        "optimizer = BayesianOptimization(f=func, pbounds=param_bounds, verbose=2, random_state=42)\n",
        "optimizer.maximize(init_points=30, n_iter=70)\n",
        "print(optimizer.max)\n",
        "\n",
        "for i, res in enumerate(optimizer.res):\n",
        "    print(\"Iteration {}: \\n\\t{}\".format(i, res))"
      ],
      "execution_count": 0,
      "outputs": [
        {
          "output_type": "stream",
          "text": [
            "|   iter    |  target   |     B     |   delta   |   lr_0    |    p_1    |    p_2    |\n",
            "-------------------------------------------------------------------------------------\n",
            "WARNING:tensorflow:From /usr/local/lib/python3.6/dist-packages/tensorflow_core/python/ops/resource_variable_ops.py:1630: calling BaseResourceVariable.__init__ (from tensorflow.python.ops.resource_variable_ops) with constraint is deprecated and will be removed in a future version.\n",
            "Instructions for updating:\n",
            "If using Keras pass *_constraint arguments to layers.\n",
            "| \u001b[0m 1       \u001b[0m | \u001b[0m-2.203   \u001b[0m | \u001b[0m 1.261   \u001b[0m | \u001b[0m 4.929e-1\u001b[0m | \u001b[0m 0.0732  \u001b[0m | \u001b[0m 0.3993  \u001b[0m | \u001b[0m 0.178   \u001b[0m |\n",
            "| \u001b[0m 2       \u001b[0m | \u001b[0m-2.303   \u001b[0m | \u001b[0m 0.5836  \u001b[0m | \u001b[0m 9.419e-1\u001b[0m | \u001b[0m 0.08662 \u001b[0m | \u001b[0m 0.4006  \u001b[0m | \u001b[0m 0.454   \u001b[0m |\n",
            "| \u001b[0m 3       \u001b[0m | \u001b[0m-2.303   \u001b[0m | \u001b[0m 0.1638  \u001b[0m | \u001b[0m 3.009e-1\u001b[0m | \u001b[0m 0.08324 \u001b[0m | \u001b[0m 0.2062  \u001b[0m | \u001b[0m 0.1909  \u001b[0m |\n",
            "| \u001b[0m 4       \u001b[0m | \u001b[0m-2.233   \u001b[0m | \u001b[0m 0.6686  \u001b[0m | \u001b[0m 6.958e-1\u001b[0m | \u001b[0m 0.05248 \u001b[0m | \u001b[0m 0.316   \u001b[0m | \u001b[0m 0.2456  \u001b[0m |\n",
            "| \u001b[95m 5       \u001b[0m | \u001b[95m-1.414   \u001b[0m | \u001b[95m 1.997   \u001b[0m | \u001b[95m 8.605e-1\u001b[0m | \u001b[95m 0.02922 \u001b[0m | \u001b[95m 0.2832  \u001b[0m | \u001b[95m 0.328   \u001b[0m |\n",
            "| \u001b[0m 6       \u001b[0m | \u001b[0m-1.995   \u001b[0m | \u001b[0m 2.534   \u001b[0m | \u001b[0m 8.003e-1\u001b[0m | \u001b[0m 0.05142 \u001b[0m | \u001b[0m 0.3962  \u001b[0m | \u001b[0m 0.1232  \u001b[0m |\n",
            "WARNING:tensorflow:Large dropout rate: 0.574443 (>0.5). In TensorFlow 2.x, dropout() uses dropout rate instead of keep_prob. Please ensure that this is intended.\n",
            "WARNING:tensorflow:Large dropout rate: 0.582816 (>0.5). In TensorFlow 2.x, dropout() uses dropout rate instead of keep_prob. Please ensure that this is intended.\n",
            "| \u001b[0m 7       \u001b[0m | \u001b[0m-2.278   \u001b[0m | \u001b[0m 1.983   \u001b[0m | \u001b[0m 8.295e-1\u001b[0m | \u001b[0m 0.006506\u001b[0m | \u001b[0m 0.5744  \u001b[0m | \u001b[0m 0.5828  \u001b[0m |\n",
            "| \u001b[0m 8       \u001b[0m | \u001b[0m-2.296   \u001b[0m | \u001b[0m 2.606   \u001b[0m | \u001b[0m 6.954e-1\u001b[0m | \u001b[0m 0.009768\u001b[0m | \u001b[0m 0.4421  \u001b[0m | \u001b[0m 0.3201  \u001b[0m |\n",
            "WARNING:tensorflow:Large dropout rate: 0.55466 (>0.5). In TensorFlow 2.x, dropout() uses dropout rate instead of keep_prob. Please ensure that this is intended.\n",
            "| \u001b[0m 9       \u001b[0m | \u001b[0m-2.18    \u001b[0m | \u001b[0m 0.4783  \u001b[0m | \u001b[0m 5.048e-1\u001b[0m | \u001b[0m 0.00344 \u001b[0m | \u001b[0m 0.5547  \u001b[0m | \u001b[0m 0.2294  \u001b[0m |\n",
            "| \u001b[0m 10      \u001b[0m | \u001b[0m-1.83    \u001b[0m | \u001b[0m 2.154   \u001b[0m | \u001b[0m 6.883e-1\u001b[0m | \u001b[0m 0.05201 \u001b[0m | \u001b[0m 0.3734  \u001b[0m | \u001b[0m 0.1924  \u001b[0m |\n",
            "WARNING:tensorflow:Large dropout rate: 0.547414 (>0.5). In TensorFlow 2.x, dropout() uses dropout rate instead of keep_prob. Please ensure that this is intended.\n",
            "| \u001b[0m 11      \u001b[0m | \u001b[0m-2.279   \u001b[0m | \u001b[0m 3.106   \u001b[0m | \u001b[0m 2.249e-1\u001b[0m | \u001b[0m 0.09395 \u001b[0m | \u001b[0m 0.5474  \u001b[0m | \u001b[0m 0.3989  \u001b[0m |\n",
            "| \u001b[0m 12      \u001b[0m | \u001b[0m-2.066   \u001b[0m | \u001b[0m 2.958   \u001b[0m | \u001b[0m 9.115e-1\u001b[0m | \u001b[0m 0.0196  \u001b[0m | \u001b[0m 0.1226  \u001b[0m | \u001b[0m 0.2627  \u001b[0m |\n",
            "| \u001b[0m 13      \u001b[0m | \u001b[0m-2.179   \u001b[0m | \u001b[0m 1.305   \u001b[0m | \u001b[0m 7.287e-1\u001b[0m | \u001b[0m 0.08287 \u001b[0m | \u001b[0m 0.2784  \u001b[0m | \u001b[0m 0.2405  \u001b[0m |\n",
            "WARNING:tensorflow:Large dropout rate: 0.593443 (>0.5). In TensorFlow 2.x, dropout() uses dropout rate instead of keep_prob. Please ensure that this is intended.\n",
            "| \u001b[0m 14      \u001b[0m | \u001b[0m-2.241   \u001b[0m | \u001b[0m 1.782   \u001b[0m | \u001b[0m 8.591e-1\u001b[0m | \u001b[0m 0.08022 \u001b[0m | \u001b[0m 0.1373  \u001b[0m | \u001b[0m 0.5934  \u001b[0m |\n",
            "| \u001b[0m 15      \u001b[0m | \u001b[0m-2.299   \u001b[0m | \u001b[0m 2.494   \u001b[0m | \u001b[0m 8.013e-1\u001b[0m | \u001b[0m 0.000553\u001b[0m | \u001b[0m 0.5077  \u001b[0m | \u001b[0m 0.4534  \u001b[0m |\n",
            "| \u001b[0m 16      \u001b[0m | \u001b[0m-2.251   \u001b[0m | \u001b[0m 2.36    \u001b[0m | \u001b[0m 2.287e-1\u001b[0m | \u001b[0m 0.007405\u001b[0m | \u001b[0m 0.2792  \u001b[0m | \u001b[0m 0.1579  \u001b[0m |\n",
            "| \u001b[0m 17      \u001b[0m | \u001b[0m-1.624   \u001b[0m | \u001b[0m 2.776   \u001b[0m | \u001b[0m 3.767e-1\u001b[0m | \u001b[0m 0.03309 \u001b[0m | \u001b[0m 0.1318  \u001b[0m | \u001b[0m 0.2555  \u001b[0m |\n",
            "| \u001b[0m 18      \u001b[0m | \u001b[0m-2.051   \u001b[0m | \u001b[0m 1.108   \u001b[0m | \u001b[0m 2.704e-1\u001b[0m | \u001b[0m 0.06376 \u001b[0m | \u001b[0m 0.5436  \u001b[0m | \u001b[0m 0.3361  \u001b[0m |\n",
            "| \u001b[0m 19      \u001b[0m | \u001b[0m-2.296   \u001b[0m | \u001b[0m 0.4707  \u001b[0m | \u001b[0m 2.868e-1\u001b[0m | \u001b[0m 0.07608 \u001b[0m | \u001b[0m 0.3806  \u001b[0m | \u001b[0m 0.4855  \u001b[0m |\n",
            "| \u001b[0m 20      \u001b[0m | \u001b[0m-2.098   \u001b[0m | \u001b[0m 1.631   \u001b[0m | \u001b[0m 4.773e-1\u001b[0m | \u001b[0m 0.04275 \u001b[0m | \u001b[0m 0.1127  \u001b[0m | \u001b[0m 0.1539  \u001b[0m |\n",
            "| \u001b[95m 21      \u001b[0m | \u001b[95m-1.134   \u001b[0m | \u001b[95m 0.1974  \u001b[0m | \u001b[95m 3.636e-1\u001b[0m | \u001b[95m 0.03144 \u001b[0m | \u001b[95m 0.3543  \u001b[0m | \u001b[95m 0.5538  \u001b[0m |\n",
            "| \u001b[0m 22      \u001b[0m | \u001b[0m-2.289   \u001b[0m | \u001b[0m 0.8728  \u001b[0m | \u001b[0m 5.896e-1\u001b[0m | \u001b[0m 0.07556 \u001b[0m | \u001b[0m 0.2144  \u001b[0m | \u001b[0m 0.1385  \u001b[0m |\n",
            "| \u001b[0m 23      \u001b[0m | \u001b[0m-2.303   \u001b[0m | \u001b[0m 0.9982  \u001b[0m | \u001b[0m 8.388e-1\u001b[0m | \u001b[0m 0.09297 \u001b[0m | \u001b[0m 0.5041  \u001b[0m | \u001b[0m 0.4167  \u001b[0m |\n",
            "| \u001b[0m 24      \u001b[0m | \u001b[0m-2.192   \u001b[0m | \u001b[0m 2.802   \u001b[0m | \u001b[0m 1.963e-1\u001b[0m | \u001b[0m 0.01866 \u001b[0m | \u001b[0m 0.5463  \u001b[0m | \u001b[0m 0.3697  \u001b[0m |\n",
            "| \u001b[0m 25      \u001b[0m | \u001b[0m-2.229   \u001b[0m | \u001b[0m 2.603   \u001b[0m | \u001b[0m 1.039e-1\u001b[0m | \u001b[0m 0.0318  \u001b[0m | \u001b[0m 0.155   \u001b[0m | \u001b[0m 0.214   \u001b[0m |\n",
            "| \u001b[0m 26      \u001b[0m | \u001b[0m-2.228   \u001b[0m | \u001b[0m 1.424   \u001b[0m | \u001b[0m 1.82e-11\u001b[0m | \u001b[0m 0.08607 \u001b[0m | \u001b[0m 0.1035  \u001b[0m | \u001b[0m 0.3554  \u001b[0m |\n",
            "| \u001b[0m 27      \u001b[0m | \u001b[0m-1.901   \u001b[0m | \u001b[0m 1.394   \u001b[0m | \u001b[0m 7.779e-1\u001b[0m | \u001b[0m 0.01199 \u001b[0m | \u001b[0m 0.2688  \u001b[0m | \u001b[0m 0.5715  \u001b[0m |\n",
            "| \u001b[0m 28      \u001b[0m | \u001b[0m-2.271   \u001b[0m | \u001b[0m 1.102   \u001b[0m | \u001b[0m 4.812e-1\u001b[0m | \u001b[0m 0.0703  \u001b[0m | \u001b[0m 0.2818  \u001b[0m | \u001b[0m 0.5859  \u001b[0m |\n",
            "| \u001b[0m 29      \u001b[0m | \u001b[0m-1.944   \u001b[0m | \u001b[0m 3.084   \u001b[0m | \u001b[0m 7.482e-1\u001b[0m | \u001b[0m 0.04973 \u001b[0m | \u001b[0m 0.2504  \u001b[0m | \u001b[0m 0.2424  \u001b[0m |\n",
            "| \u001b[0m 30      \u001b[0m | \u001b[0m-2.303   \u001b[0m | \u001b[0m 0.2143  \u001b[0m | \u001b[0m 3.904e-1\u001b[0m | \u001b[0m 0.05027 \u001b[0m | \u001b[0m 0.1257  \u001b[0m | \u001b[0m 0.2393  \u001b[0m |\n",
            "| \u001b[0m 31      \u001b[0m | \u001b[0m-2.303   \u001b[0m | \u001b[0m 0.1055  \u001b[0m | \u001b[0m 0.0     \u001b[0m | \u001b[0m 0.0662  \u001b[0m | \u001b[0m 0.5968  \u001b[0m | \u001b[0m 0.599   \u001b[0m |\n",
            "| \u001b[0m 32      \u001b[0m | \u001b[0m-1.17    \u001b[0m | \u001b[0m 0.103   \u001b[0m | \u001b[0m 0.0     \u001b[0m | \u001b[0m 0.03015 \u001b[0m | \u001b[0m 0.1349  \u001b[0m | \u001b[0m 0.5979  \u001b[0m |\n",
            "| \u001b[0m 33      \u001b[0m | \u001b[0m-1.884   \u001b[0m | \u001b[0m 1.774   \u001b[0m | \u001b[0m 0.0     \u001b[0m | \u001b[0m 0.01826 \u001b[0m | \u001b[0m 0.5937  \u001b[0m | \u001b[0m 0.1182  \u001b[0m |\n",
            "| \u001b[0m 34      \u001b[0m | \u001b[0m-2.106   \u001b[0m | \u001b[0m 2.742   \u001b[0m | \u001b[0m 0.0     \u001b[0m | \u001b[0m 0.08981 \u001b[0m | \u001b[0m 0.1074  \u001b[0m | \u001b[0m 0.5961  \u001b[0m |\n",
            "| \u001b[0m 35      \u001b[0m | \u001b[0m-2.175   \u001b[0m | \u001b[0m 3.175   \u001b[0m | \u001b[0m 0.0     \u001b[0m | \u001b[0m 0.09633 \u001b[0m | \u001b[0m 0.5725  \u001b[0m | \u001b[0m 0.1042  \u001b[0m |\n",
            "| \u001b[0m 36      \u001b[0m | \u001b[0m-1.817   \u001b[0m | \u001b[0m 1.5     \u001b[0m | \u001b[0m 0.0     \u001b[0m | \u001b[0m 0.09534 \u001b[0m | \u001b[0m 0.5995  \u001b[0m | \u001b[0m 0.5606  \u001b[0m |\n",
            "| \u001b[0m 37      \u001b[0m | \u001b[0m-2.252   \u001b[0m | \u001b[0m 2.023   \u001b[0m | \u001b[0m 0.0     \u001b[0m | \u001b[0m 0.09673 \u001b[0m | \u001b[0m 0.1121  \u001b[0m | \u001b[0m 0.1024  \u001b[0m |\n",
            "| \u001b[0m 38      \u001b[0m | \u001b[0m-2.274   \u001b[0m | \u001b[0m 0.1023  \u001b[0m | \u001b[0m 0.0     \u001b[0m | \u001b[0m 0.000254\u001b[0m | \u001b[0m 0.3014  \u001b[0m | \u001b[0m 0.4797  \u001b[0m |\n",
            "| \u001b[0m 39      \u001b[0m | \u001b[0m-2.303   \u001b[0m | \u001b[0m 0.3373  \u001b[0m | \u001b[0m 0.0     \u001b[0m | \u001b[0m 0.07967 \u001b[0m | \u001b[0m 0.1003  \u001b[0m | \u001b[0m 0.5969  \u001b[0m |\n",
            "| \u001b[0m 40      \u001b[0m | \u001b[0m-2.285   \u001b[0m | \u001b[0m 2.218   \u001b[0m | \u001b[0m 0.0     \u001b[0m | \u001b[0m 0.09928 \u001b[0m | \u001b[0m 0.1158  \u001b[0m | \u001b[0m 0.5994  \u001b[0m |\n",
            "| \u001b[0m 41      \u001b[0m | \u001b[0m-2.1     \u001b[0m | \u001b[0m 3.195   \u001b[0m | \u001b[0m 0.0     \u001b[0m | \u001b[0m 0.07851 \u001b[0m | \u001b[0m 0.142   \u001b[0m | \u001b[0m 0.5988  \u001b[0m |\n",
            "| \u001b[0m 42      \u001b[0m | \u001b[0m-2.125   \u001b[0m | \u001b[0m 0.8831  \u001b[0m | \u001b[0m 0.0     \u001b[0m | \u001b[0m 0.04197 \u001b[0m | \u001b[0m 0.5941  \u001b[0m | \u001b[0m 0.1023  \u001b[0m |\n",
            "| \u001b[0m 43      \u001b[0m | \u001b[0m-2.271   \u001b[0m | \u001b[0m 1.724   \u001b[0m | \u001b[0m 0.0     \u001b[0m | \u001b[0m 0.005366\u001b[0m | \u001b[0m 0.4102  \u001b[0m | \u001b[0m 0.3489  \u001b[0m |\n",
            "| \u001b[0m 44      \u001b[0m | \u001b[0m-1.618   \u001b[0m | \u001b[0m 2.266   \u001b[0m | \u001b[0m 0.0     \u001b[0m | \u001b[0m 0.0369  \u001b[0m | \u001b[0m 0.5957  \u001b[0m | \u001b[0m 0.1     \u001b[0m |\n",
            "| \u001b[0m 45      \u001b[0m | \u001b[0m-2.303   \u001b[0m | \u001b[0m 0.1219  \u001b[0m | \u001b[0m 0.0     \u001b[0m | \u001b[0m 0.09016 \u001b[0m | \u001b[0m 0.2811  \u001b[0m | \u001b[0m 0.5977  \u001b[0m |\n",
            "| \u001b[0m 46      \u001b[0m | \u001b[0m-2.188   \u001b[0m | \u001b[0m 0.3244  \u001b[0m | \u001b[0m 0.0     \u001b[0m | \u001b[0m 0.002121\u001b[0m | \u001b[0m 0.4567  \u001b[0m | \u001b[0m 0.5963  \u001b[0m |\n",
            "| \u001b[0m 47      \u001b[0m | \u001b[0m-2.303   \u001b[0m | \u001b[0m 0.129   \u001b[0m | \u001b[0m 0.0     \u001b[0m | \u001b[0m 0.07721 \u001b[0m | \u001b[0m 0.5911  \u001b[0m | \u001b[0m 0.1031  \u001b[0m |\n",
            "| \u001b[0m 48      \u001b[0m | \u001b[0m-2.242   \u001b[0m | \u001b[0m 2.05    \u001b[0m | \u001b[0m 0.0     \u001b[0m | \u001b[0m 0.0955  \u001b[0m | \u001b[0m 0.598   \u001b[0m | \u001b[0m 0.2701  \u001b[0m |\n",
            "| \u001b[0m 49      \u001b[0m | \u001b[0m-2.061   \u001b[0m | \u001b[0m 2.853   \u001b[0m | \u001b[0m 0.0     \u001b[0m | \u001b[0m 0.09579 \u001b[0m | \u001b[0m 0.3405  \u001b[0m | \u001b[0m 0.1041  \u001b[0m |\n",
            "| \u001b[0m 50      \u001b[0m | \u001b[0m-2.111   \u001b[0m | \u001b[0m 1.5     \u001b[0m | \u001b[0m 0.0     \u001b[0m | \u001b[0m 0.08367 \u001b[0m | \u001b[0m 0.5987  \u001b[0m | \u001b[0m 0.11    \u001b[0m |\n",
            "| \u001b[0m 51      \u001b[0m | \u001b[0m-2.145   \u001b[0m | \u001b[0m 1.252   \u001b[0m | \u001b[0m 0.0     \u001b[0m | \u001b[0m 0.01116 \u001b[0m | \u001b[0m 0.5962  \u001b[0m | \u001b[0m 0.5822  \u001b[0m |\n",
            "| \u001b[0m 52      \u001b[0m | \u001b[0m-1.885   \u001b[0m | \u001b[0m 0.7963  \u001b[0m | \u001b[0m 0.0     \u001b[0m | \u001b[0m 0.006172\u001b[0m | \u001b[0m 0.1001  \u001b[0m | \u001b[0m 0.5816  \u001b[0m |\n",
            "| \u001b[0m 53      \u001b[0m | \u001b[0m-2.303   \u001b[0m | \u001b[0m 3.197   \u001b[0m | \u001b[0m 0.0     \u001b[0m | \u001b[0m 0.09787 \u001b[0m | \u001b[0m 0.1003  \u001b[0m | \u001b[0m 0.107   \u001b[0m |\n",
            "| \u001b[0m 54      \u001b[0m | \u001b[0m-2.078   \u001b[0m | \u001b[0m 2.929   \u001b[0m | \u001b[0m 0.0     \u001b[0m | \u001b[0m 0.02224 \u001b[0m | \u001b[0m 0.359   \u001b[0m | \u001b[0m 0.5977  \u001b[0m |\n",
            "| \u001b[0m 55      \u001b[0m | \u001b[0m-1.971   \u001b[0m | \u001b[0m 0.5319  \u001b[0m | \u001b[0m 0.0     \u001b[0m | \u001b[0m 0.04262 \u001b[0m | \u001b[0m 0.1018  \u001b[0m | \u001b[0m 0.1078  \u001b[0m |\n",
            "| \u001b[0m 56      \u001b[0m | \u001b[0m-2.037   \u001b[0m | \u001b[0m 2.615   \u001b[0m | \u001b[0m 0.0     \u001b[0m | \u001b[0m 0.08149 \u001b[0m | \u001b[0m 0.5999  \u001b[0m | \u001b[0m 0.1058  \u001b[0m |\n",
            "| \u001b[0m 57      \u001b[0m | \u001b[0m-2.294   \u001b[0m | \u001b[0m 1.939   \u001b[0m | \u001b[0m 0.0     \u001b[0m | \u001b[0m 0.001338\u001b[0m | \u001b[0m 0.3786  \u001b[0m | \u001b[0m 0.111   \u001b[0m |\n",
            "| \u001b[0m 58      \u001b[0m | \u001b[0m-2.297   \u001b[0m | \u001b[0m 1.992   \u001b[0m | \u001b[0m 0.0     \u001b[0m | \u001b[0m 0.000534\u001b[0m | \u001b[0m 0.1001  \u001b[0m | \u001b[0m 0.3941  \u001b[0m |\n",
            "| \u001b[0m 59      \u001b[0m | \u001b[0m-2.303   \u001b[0m | \u001b[0m 0.1856  \u001b[0m | \u001b[0m 0.0     \u001b[0m | \u001b[0m 0.04843 \u001b[0m | \u001b[0m 0.3398  \u001b[0m | \u001b[0m 0.5465  \u001b[0m |\n",
            "| \u001b[0m 60      \u001b[0m | \u001b[0m-2.188   \u001b[0m | \u001b[0m 0.8903  \u001b[0m | \u001b[0m 0.0     \u001b[0m | \u001b[0m 0.06231 \u001b[0m | \u001b[0m 0.2518  \u001b[0m | \u001b[0m 0.2038  \u001b[0m |\n",
            "| \u001b[0m 61      \u001b[0m | \u001b[0m-1.483   \u001b[0m | \u001b[0m 2.415   \u001b[0m | \u001b[0m 0.0     \u001b[0m | \u001b[0m 0.03296 \u001b[0m | \u001b[0m 0.2786  \u001b[0m | \u001b[0m 0.5742  \u001b[0m |\n",
            "| \u001b[0m 62      \u001b[0m | \u001b[0m-2.087   \u001b[0m | \u001b[0m 1.401   \u001b[0m | \u001b[0m 0.0     \u001b[0m | \u001b[0m 0.083   \u001b[0m | \u001b[0m 0.3315  \u001b[0m | \u001b[0m 0.4803  \u001b[0m |\n",
            "| \u001b[0m 63      \u001b[0m | \u001b[0m-1.929   \u001b[0m | \u001b[0m 2.43    \u001b[0m | \u001b[0m 0.0     \u001b[0m | \u001b[0m 0.0406  \u001b[0m | \u001b[0m 0.2743  \u001b[0m | \u001b[0m 0.3     \u001b[0m |\n",
            "| \u001b[0m 64      \u001b[0m | \u001b[0m-1.991   \u001b[0m | \u001b[0m 1.807   \u001b[0m | \u001b[0m 0.0     \u001b[0m | \u001b[0m 0.07309 \u001b[0m | \u001b[0m 0.3559  \u001b[0m | \u001b[0m 0.4216  \u001b[0m |\n",
            "| \u001b[0m 65      \u001b[0m | \u001b[0m-2.245   \u001b[0m | \u001b[0m 3.05    \u001b[0m | \u001b[0m 0.0     \u001b[0m | \u001b[0m 0.009271\u001b[0m | \u001b[0m 0.1233  \u001b[0m | \u001b[0m 0.2651  \u001b[0m |\n",
            "| \u001b[0m 66      \u001b[0m | \u001b[0m-1.8     \u001b[0m | \u001b[0m 1.308   \u001b[0m | \u001b[0m 0.0     \u001b[0m | \u001b[0m 0.01183 \u001b[0m | \u001b[0m 0.3148  \u001b[0m | \u001b[0m 0.4823  \u001b[0m |\n",
            "| \u001b[0m 67      \u001b[0m | \u001b[0m-2.279   \u001b[0m | \u001b[0m 2.955   \u001b[0m | \u001b[0m 0.0     \u001b[0m | \u001b[0m 0.008186\u001b[0m | \u001b[0m 0.3762  \u001b[0m | \u001b[0m 0.1357  \u001b[0m |\n",
            "| \u001b[0m 68      \u001b[0m | \u001b[0m-2.06    \u001b[0m | \u001b[0m 0.7025  \u001b[0m | \u001b[0m 0.0     \u001b[0m | \u001b[0m 0.0688  \u001b[0m | \u001b[0m 0.313   \u001b[0m | \u001b[0m 0.1792  \u001b[0m |\n",
            "| \u001b[0m 69      \u001b[0m | \u001b[0m-2.249   \u001b[0m | \u001b[0m 0.5036  \u001b[0m | \u001b[0m 0.0     \u001b[0m | \u001b[0m 0.001826\u001b[0m | \u001b[0m 0.3584  \u001b[0m | \u001b[0m 0.447   \u001b[0m |\n",
            "| \u001b[0m 70      \u001b[0m | \u001b[0m-1.772   \u001b[0m | \u001b[0m 1.704   \u001b[0m | \u001b[0m 0.0     \u001b[0m | \u001b[0m 0.03665 \u001b[0m | \u001b[0m 0.3786  \u001b[0m | \u001b[0m 0.1091  \u001b[0m |\n",
            "| \u001b[0m 71      \u001b[0m | \u001b[0m-1.943   \u001b[0m | \u001b[0m 0.4581  \u001b[0m | \u001b[0m 0.0     \u001b[0m | \u001b[0m 0.04488 \u001b[0m | \u001b[0m 0.3302  \u001b[0m | \u001b[0m 0.3493  \u001b[0m |\n",
            "| \u001b[0m 72      \u001b[0m | \u001b[0m-2.112   \u001b[0m | \u001b[0m 2.513   \u001b[0m | \u001b[0m 0.0     \u001b[0m | \u001b[0m 0.08118 \u001b[0m | \u001b[0m 0.4235  \u001b[0m | \u001b[0m 0.4095  \u001b[0m |\n",
            "| \u001b[0m 73      \u001b[0m | \u001b[0m-1.424   \u001b[0m | \u001b[0m 2.272   \u001b[0m | \u001b[0m 0.0     \u001b[0m | \u001b[0m 0.03085 \u001b[0m | \u001b[0m 0.4012  \u001b[0m | \u001b[0m 0.241   \u001b[0m |\n",
            "| \u001b[0m 74      \u001b[0m | \u001b[0m-2.046   \u001b[0m | \u001b[0m 2.087   \u001b[0m | \u001b[0m 0.0     \u001b[0m | \u001b[0m 0.06069 \u001b[0m | \u001b[0m 0.4496  \u001b[0m | \u001b[0m 0.5458  \u001b[0m |\n",
            "| \u001b[0m 75      \u001b[0m | \u001b[0m-2.073   \u001b[0m | \u001b[0m 3.106   \u001b[0m | \u001b[0m 0.0     \u001b[0m | \u001b[0m 0.04935 \u001b[0m | \u001b[0m 0.3732  \u001b[0m | \u001b[0m 0.1898  \u001b[0m |\n",
            "| \u001b[0m 76      \u001b[0m | \u001b[0m-2.291   \u001b[0m | \u001b[0m 2.363   \u001b[0m | \u001b[0m 0.0     \u001b[0m | \u001b[0m 0.002083\u001b[0m | \u001b[0m 0.5061  \u001b[0m | \u001b[0m 0.3605  \u001b[0m |\n",
            "| \u001b[0m 77      \u001b[0m | \u001b[0m-2.109   \u001b[0m | \u001b[0m 0.987   \u001b[0m | \u001b[0m 0.0     \u001b[0m | \u001b[0m 0.05271 \u001b[0m | \u001b[0m 0.2246  \u001b[0m | \u001b[0m 0.1522  \u001b[0m |\n",
            "| \u001b[0m 78      \u001b[0m | \u001b[0m-2.161   \u001b[0m | \u001b[0m 2.967   \u001b[0m | \u001b[0m 0.0     \u001b[0m | \u001b[0m 0.09809 \u001b[0m | \u001b[0m 0.133   \u001b[0m | \u001b[0m 0.5769  \u001b[0m |\n",
            "| \u001b[0m 79      \u001b[0m | \u001b[0m-1.454   \u001b[0m | \u001b[0m 2.179   \u001b[0m | \u001b[0m 0.0     \u001b[0m | \u001b[0m 0.03283 \u001b[0m | \u001b[0m 0.4386  \u001b[0m | \u001b[0m 0.5454  \u001b[0m |\n",
            "| \u001b[0m 80      \u001b[0m | \u001b[0m-2.246   \u001b[0m | \u001b[0m 1.71    \u001b[0m | \u001b[0m 0.0     \u001b[0m | \u001b[0m 0.092   \u001b[0m | \u001b[0m 0.2824  \u001b[0m | \u001b[0m 0.5835  \u001b[0m |\n",
            "| \u001b[0m 81      \u001b[0m | \u001b[0m-2.303   \u001b[0m | \u001b[0m 0.1482  \u001b[0m | \u001b[0m 0.0     \u001b[0m | \u001b[0m 0.063   \u001b[0m | \u001b[0m 0.1746  \u001b[0m | \u001b[0m 0.2653  \u001b[0m |\n",
            "| \u001b[0m 82      \u001b[0m | \u001b[0m-2.107   \u001b[0m | \u001b[0m 1.617   \u001b[0m | \u001b[0m 0.0     \u001b[0m | \u001b[0m 0.07854 \u001b[0m | \u001b[0m 0.4761  \u001b[0m | \u001b[0m 0.4435  \u001b[0m |\n",
            "| \u001b[0m 83      \u001b[0m | \u001b[0m-1.763   \u001b[0m | \u001b[0m 0.9591  \u001b[0m | \u001b[0m 0.0     \u001b[0m | \u001b[0m 0.03599 \u001b[0m | \u001b[0m 0.5009  \u001b[0m | \u001b[0m 0.1479  \u001b[0m |\n",
            "| \u001b[0m 84      \u001b[0m | \u001b[0m-2.295   \u001b[0m | \u001b[0m 2.272   \u001b[0m | \u001b[0m 0.0     \u001b[0m | \u001b[0m 0.001441\u001b[0m | \u001b[0m 0.4485  \u001b[0m | \u001b[0m 0.5969  \u001b[0m |\n",
            "| \u001b[0m 85      \u001b[0m | \u001b[0m-2.12    \u001b[0m | \u001b[0m 0.6223  \u001b[0m | \u001b[0m 0.0     \u001b[0m | \u001b[0m 0.03139 \u001b[0m | \u001b[0m 0.3105  \u001b[0m | \u001b[0m 0.1519  \u001b[0m |\n",
            "| \u001b[0m 86      \u001b[0m | \u001b[0m-2.227   \u001b[0m | \u001b[0m 2.596   \u001b[0m | \u001b[0m 0.0     \u001b[0m | \u001b[0m 0.09    \u001b[0m | \u001b[0m 0.3127  \u001b[0m | \u001b[0m 0.54    \u001b[0m |\n",
            "| \u001b[0m 87      \u001b[0m | \u001b[0m-1.867   \u001b[0m | \u001b[0m 3.074   \u001b[0m | \u001b[0m 0.0     \u001b[0m | \u001b[0m 0.05502 \u001b[0m | \u001b[0m 0.5141  \u001b[0m | \u001b[0m 0.3697  \u001b[0m |\n",
            "| \u001b[0m 88      \u001b[0m | \u001b[0m-1.894   \u001b[0m | \u001b[0m 2.289   \u001b[0m | \u001b[0m 0.0     \u001b[0m | \u001b[0m 0.06645 \u001b[0m | \u001b[0m 0.5267  \u001b[0m | \u001b[0m 0.5204  \u001b[0m |\n",
            "| \u001b[0m 89      \u001b[0m | \u001b[0m-2.273   \u001b[0m | \u001b[0m 0.3132  \u001b[0m | \u001b[0m 0.0     \u001b[0m | \u001b[0m 0.05791 \u001b[0m | \u001b[0m 0.3822  \u001b[0m | \u001b[0m 0.435   \u001b[0m |\n",
            "| \u001b[0m 90      \u001b[0m | \u001b[0m-2.298   \u001b[0m | \u001b[0m 2.848   \u001b[0m | \u001b[0m 0.0     \u001b[0m | \u001b[0m 0.000915\u001b[0m | \u001b[0m 0.4601  \u001b[0m | \u001b[0m 0.508   \u001b[0m |\n",
            "| \u001b[0m 91      \u001b[0m | \u001b[0m-2.199   \u001b[0m | \u001b[0m 0.8674  \u001b[0m | \u001b[0m 0.0     \u001b[0m | \u001b[0m 0.04518 \u001b[0m | \u001b[0m 0.4192  \u001b[0m | \u001b[0m 0.5955  \u001b[0m |\n",
            "| \u001b[0m 92      \u001b[0m | \u001b[0m-2.088   \u001b[0m | \u001b[0m 2.412   \u001b[0m | \u001b[0m 0.0     \u001b[0m | \u001b[0m 0.07696 \u001b[0m | \u001b[0m 0.2906  \u001b[0m | \u001b[0m 0.5841  \u001b[0m |\n",
            "| \u001b[0m 93      \u001b[0m | \u001b[0m-2.178   \u001b[0m | \u001b[0m 1.473   \u001b[0m | \u001b[0m 0.0     \u001b[0m | \u001b[0m 0.05484 \u001b[0m | \u001b[0m 0.4248  \u001b[0m | \u001b[0m 0.1709  \u001b[0m |\n",
            "| \u001b[0m 94      \u001b[0m | \u001b[0m-2.115   \u001b[0m | \u001b[0m 0.3283  \u001b[0m | \u001b[0m 0.0     \u001b[0m | \u001b[0m 0.05004 \u001b[0m | \u001b[0m 0.5837  \u001b[0m | \u001b[0m 0.353   \u001b[0m |\n",
            "| \u001b[0m 95      \u001b[0m | \u001b[0m-1.83    \u001b[0m | \u001b[0m 2.44    \u001b[0m | \u001b[0m 0.0     \u001b[0m | \u001b[0m 0.04519 \u001b[0m | \u001b[0m 0.1173  \u001b[0m | \u001b[0m 0.5432  \u001b[0m |\n",
            "| \u001b[0m 96      \u001b[0m | \u001b[0m-2.32    \u001b[0m | \u001b[0m 1.736   \u001b[0m | \u001b[0m 0.0     \u001b[0m | \u001b[0m 0.08402 \u001b[0m | \u001b[0m 0.1624  \u001b[0m | \u001b[0m 0.165   \u001b[0m |\n",
            "| \u001b[0m 97      \u001b[0m | \u001b[0m-1.837   \u001b[0m | \u001b[0m 2.561   \u001b[0m | \u001b[0m 0.0     \u001b[0m | \u001b[0m 0.04836 \u001b[0m | \u001b[0m 0.3038  \u001b[0m | \u001b[0m 0.5867  \u001b[0m |\n",
            "| \u001b[0m 98      \u001b[0m | \u001b[0m-1.435   \u001b[0m | \u001b[0m 2.012   \u001b[0m | \u001b[0m 0.0     \u001b[0m | \u001b[0m 0.02763 \u001b[0m | \u001b[0m 0.335   \u001b[0m | \u001b[0m 0.1262  \u001b[0m |\n",
            "| \u001b[0m 99      \u001b[0m | \u001b[0m-1.301   \u001b[0m | \u001b[0m 1.43    \u001b[0m | \u001b[0m 0.0     \u001b[0m | \u001b[0m 0.02072 \u001b[0m | \u001b[0m 0.1692  \u001b[0m | \u001b[0m 0.1778  \u001b[0m |\n",
            "| \u001b[0m 100     \u001b[0m | \u001b[0m-1.802   \u001b[0m | \u001b[0m 2.006   \u001b[0m | \u001b[0m 0.0     \u001b[0m | \u001b[0m 0.04833 \u001b[0m | \u001b[0m 0.1101  \u001b[0m | \u001b[0m 0.3681  \u001b[0m |\n",
            "=====================================================================================\n",
            "Iteration 0: \n",
            "\t{'target': -2.203275761604309, 'params': {'B': 1.2610743684268237, 'delta': 4.928569359008377e-12, 'lr_0': 0.0731996621871987, 'p_1': 0.3993292420985183, 'p_2': 0.17800932022121826}}\n",
            "Iteration 1: \n",
            "\t{'target': -2.3025858602523805, 'params': {'B': 0.5835830130422283, 'delta': 9.419163878318006e-11, 'lr_0': 0.08661774840134774, 'p_1': 0.40055750587160444, 'p_2': 0.4540362888980227}}\n",
            "Iteration 2: \n",
            "\t{'target': -2.302598253250122, 'params': {'B': 0.1638119323169876, 'delta': 3.0090147838005703e-12, 'lr_0': 0.08324443163740138, 'p_1': 0.20616955533913808, 'p_2': 0.19091248360355031}}\n",
            "Iteration 3: \n",
            "\t{'target': -2.233433811664581, 'params': {'B': 0.6685539805456449, 'delta': 6.957577570404623e-11, 'lr_0': 0.05247611840679216, 'p_1': 0.3159725093210579, 'p_2': 0.24561457009902096}}\n",
            "Iteration 4: \n",
            "\t{'target': -1.4143812656402588, 'params': {'B': 1.9967439736393764, 'delta': 8.605061393479582e-11, 'lr_0': 0.029215172708873284, 'p_1': 0.28318092164684583, 'p_2': 0.32803499210851794}}\n",
            "Iteration 5: \n",
            "\t{'target': -1.9948382377624512, 'params': {'B': 2.5340454803183423, 'delta': 8.003262178416403e-11, 'lr_0': 0.05142392960692275, 'p_1': 0.39620728443102127, 'p_2': 0.12322520635999887}}\n",
            "Iteration 6: \n",
            "\t{'target': -2.2779853343963623, 'params': {'B': 1.983389040894459, 'delta': 8.294758763127085e-11, 'lr_0': 0.006506094246934967, 'p_1': 0.5744427686266667, 'p_2': 0.5828160165372797}}\n",
            "Iteration 7: \n",
            "\t{'target': -2.295804023742676, 'params': {'B': 2.6060317791610297, 'delta': 6.953862308266294e-11, 'lr_0': 0.00976811372852438, 'p_1': 0.4421165132560785, 'p_2': 0.32007624686980063}}\n",
            "Iteration 8: \n",
            "\t{'target': -2.17972052526474, 'params': {'B': 0.47831852801881436, 'delta': 5.0482308988872984e-11, 'lr_0': 0.003439817723000725, 'p_1': 0.5546602010393911, 'p_2': 0.22938999080000846}}\n",
            "Iteration 9: \n",
            "\t{'target': -1.830053448677063, 'params': {'B': 2.1538190814973444, 'delta': 6.88288923910589e-11, 'lr_0': 0.052007282049759906, 'p_1': 0.3733551396716398, 'p_2': 0.19242722776276353}}\n",
            "Iteration 10: \n",
            "\t{'target': -2.2794382572174072, 'params': {'B': 3.1057123460701317, 'delta': 2.2486717663888545e-11, 'lr_0': 0.09394995465747735, 'p_1': 0.5474136752138244, 'p_2': 0.3989499894055426}}\n",
            "Iteration 11: \n",
            "\t{'target': -2.0661940574645996, 'params': {'B': 2.9578101285716625, 'delta': 9.115074979480805e-11, 'lr_0': 0.019599090259052102, 'p_1': 0.12261364445526904, 'p_2': 0.2626651653816322}}\n",
            "Iteration 12: \n",
            "\t{'target': -2.1791532974243166, 'params': {'B': 1.3048995980373943, 'delta': 7.286509682261042e-11, 'lr_0': 0.08287392217768379, 'p_1': 0.2783766633467947, 'p_2': 0.2404672548436904}}\n",
            "Iteration 13: \n",
            "\t{'target': -2.241156816482544, 'params': {'B': 1.7823578577905703, 'delta': 8.590757750252373e-11, 'lr_0': 0.08021989587842322, 'p_1': 0.13727532183988542, 'p_2': 0.5934434683002586}}\n",
            "Iteration 14: \n",
            "\t{'target': -2.2991068363189697, 'params': {'B': 2.4939587848196383, 'delta': 8.012843184658276e-11, 'lr_0': 0.0005532061902431164, 'p_1': 0.5077307142274171, 'p_2': 0.45342867192380854}}\n",
            "Iteration 15: \n",
            "\t{'target': -2.2511866092681885, 'params': {'B': 2.3599222209270607, 'delta': 2.287296533140542e-11, 'lr_0': 0.0074053911287573024, 'p_1': 0.27923286427213634, 'p_2': 0.15793452976256486}}\n",
            "Iteration 16: \n",
            "\t{'target': -1.6242343187332153, 'params': {'B': 2.77562062021434, 'delta': 3.767018731724421e-11, 'lr_0': 0.033090471587240065, 'p_1': 0.13177917514301182, 'p_2': 0.2554911608578311}}\n",
            "Iteration 17: \n",
            "\t{'target': -2.0510345983505247, 'params': {'B': 1.108068298282916, 'delta': 2.7039382166193597e-11, 'lr_0': 0.06375610957804996, 'p_1': 0.5436063712881632, 'p_2': 0.3361074625809747}}\n",
            "Iteration 18: \n",
            "\t{'target': -2.2964536905288697, 'params': {'B': 0.47074216240873534, 'delta': 2.8675521277700498e-11, 'lr_0': 0.07607874407664113, 'p_1': 0.38063859878474815, 'p_2': 0.48548358997728047}}\n",
            "Iteration 19: \n",
            "\t{'target': -2.098484754562378, 'params': {'B': 1.6307663487296113, 'delta': 4.7726717061800594e-11, 'lr_0': 0.042754674294836606, 'p_1': 0.1127095633720476, 'p_2': 0.15394571349665223}}\n",
            "Iteration 20: \n",
            "\t{'target': -1.1337814952135086, 'params': {'B': 0.19743047562887617, 'delta': 3.635895887362197e-11, 'lr_0': 0.03143628375165159, 'p_1': 0.35428534558235136, 'p_2': 0.5537832369630465}}\n",
            "Iteration 21: \n",
            "\t{'target': -2.289292606830597, 'params': {'B': 0.8728059103615123, 'delta': 5.896170769643703e-11, 'lr_0': 0.07555535830316633, 'p_1': 0.21439908274581124, 'p_2': 0.1384899549143965}}\n",
            "Iteration 22: \n",
            "\t{'target': -2.30258863735199, 'params': {'B': 0.9982295040326808, 'delta': 8.387787127459957e-11, 'lr_0': 0.09296983553660497, 'p_1': 0.5040601897822085, 'p_2': 0.41670187825521177}}\n",
            "Iteration 23: \n",
            "\t{'target': -2.1916162967681885, 'params': {'B': 2.801527829581925, 'delta': 1.9632792310088554e-11, 'lr_0': 0.0186578193185447, 'p_1': 0.5462794992449889, 'p_2': 0.3696711209578254}}\n",
            "Iteration 24: \n",
            "\t{'target': -2.229408025741577, 'params': {'B': 2.603064481008594, 'delta': 1.0390870007650672e-11, 'lr_0': 0.03180102949371142, 'p_1': 0.15502596226383838, 'p_2': 0.21396758127097085}}\n",
            "Iteration 25: \n",
            "\t{'target': -2.22793821811676, 'params': {'B': 1.4240341447413947, 'delta': 1.819852340775069e-11, 'lr_0': 0.0860731975950511, 'p_1': 0.10347606526559536, 'p_2': 0.35537365128878284}}\n",
            "Iteration 26: \n",
            "\t{'target': -1.9013852033615113, 'params': {'B': 1.393974109761215, 'delta': 7.778921895292698e-11, 'lr_0': 0.011987416868000946, 'p_1': 0.26880758570181396, 'p_2': 0.5714548519562596}}\n",
            "Iteration 27: \n",
            "\t{'target': -2.2706590538024902, 'params': {'B': 1.1019290892643414, 'delta': 4.812093782566339e-11, 'lr_0': 0.07030219287055889, 'p_1': 0.28181480118964697, 'p_2': 0.5858910413604803}}\n",
            "Iteration 28: \n",
            "\t{'target': -1.9437581300735474, 'params': {'B': 3.083586614320545, 'delta': 7.482177041746359e-11, 'lr_0': 0.04972535334073266, 'p_1': 0.25043915490838486, 'p_2': 0.2424202471887338}}\n",
            "Iteration 29: \n",
            "\t{'target': -2.302606737136841, 'params': {'B': 0.21434953679905167, 'delta': 3.904356660201032e-11, 'lr_0': 0.05026839964386293, 'p_1': 0.12573937562499468, 'p_2': 0.23932323211830572}}\n",
            "Iteration 30: \n",
            "\t{'target': -2.30269243144989, 'params': {'B': 0.10554368977749003, 'delta': 0.0, 'lr_0': 0.06619935138930022, 'p_1': 0.5967667916881095, 'p_2': 0.5989673613002808}}\n",
            "Iteration 31: \n",
            "\t{'target': -1.1702815523147583, 'params': {'B': 0.10298615760006018, 'delta': 0.0, 'lr_0': 0.030153964104483025, 'p_1': 0.1349465037224167, 'p_2': 0.5979140257047085}}\n",
            "Iteration 32: \n",
            "\t{'target': -1.8843600749969482, 'params': {'B': 1.7739410814531384, 'delta': 0.0, 'lr_0': 0.018260526072353674, 'p_1': 0.5936509914839063, 'p_2': 0.11820374861027508}}\n",
            "Iteration 33: \n",
            "\t{'target': -2.1058287620544434, 'params': {'B': 2.7415818023866203, 'delta': 0.0, 'lr_0': 0.08980964043948997, 'p_1': 0.10737932864177066, 'p_2': 0.5960852465636237}}\n",
            "Iteration 34: \n",
            "\t{'target': -2.1746084690093994, 'params': {'B': 3.174568932405227, 'delta': 0.0, 'lr_0': 0.09632974503575531, 'p_1': 0.5725483430035893, 'p_2': 0.10415326703877362}}\n",
            "Iteration 35: \n",
            "\t{'target': -1.81681986451149, 'params': {'B': 1.499842155910715, 'delta': 0.0, 'lr_0': 0.09533955392930571, 'p_1': 0.5994985768922665, 'p_2': 0.5606202289435186}}\n",
            "Iteration 36: \n",
            "\t{'target': -2.25240421295166, 'params': {'B': 2.0226572769311346, 'delta': 0.0, 'lr_0': 0.09673018921476623, 'p_1': 0.1121148522709274, 'p_2': 0.10235388208346005}}\n",
            "Iteration 37: \n",
            "\t{'target': -2.2742952289581297, 'params': {'B': 0.10225179394826274, 'delta': 0.0, 'lr_0': 0.00025438496512140366, 'p_1': 0.30141026912671853, 'p_2': 0.4796508106170454}}\n",
            "Iteration 38: \n",
            "\t{'target': -2.3025891289711, 'params': {'B': 0.3372601832274374, 'delta': 0.0, 'lr_0': 0.07967012432208091, 'p_1': 0.10033375275588366, 'p_2': 0.5968890696355912}}\n",
            "Iteration 39: \n",
            "\t{'target': -2.2852063179016113, 'params': {'B': 2.21766706696432, 'delta': 0.0, 'lr_0': 0.09927560824825951, 'p_1': 0.11579270393899257, 'p_2': 0.5994379752080778}}\n",
            "Iteration 40: \n",
            "\t{'target': -2.100222110748291, 'params': {'B': 3.195149269096013, 'delta': 0.0, 'lr_0': 0.07851121482578946, 'p_1': 0.14196451070906627, 'p_2': 0.5987661425239501}}\n",
            "Iteration 41: \n",
            "\t{'target': -2.12484663772583, 'params': {'B': 0.8831162816980715, 'delta': 0.0, 'lr_0': 0.041967974343709476, 'p_1': 0.5941112691917444, 'p_2': 0.10234107200453638}}\n",
            "Iteration 42: \n",
            "\t{'target': -2.2705256938934326, 'params': {'B': 1.7242618430572663, 'delta': 0.0, 'lr_0': 0.005366269956205014, 'p_1': 0.4101767693209688, 'p_2': 0.34885002281121624}}\n",
            "Iteration 43: \n",
            "\t{'target': -1.6176148653030396, 'params': {'B': 2.266023499720068, 'delta': 0.0, 'lr_0': 0.03690225050836964, 'p_1': 0.5957117957360458, 'p_2': 0.10002603377271554}}\n",
            "Iteration 44: \n",
            "\t{'target': -2.3026659021377562, 'params': {'B': 0.12188560402549767, 'delta': 0.0, 'lr_0': 0.09016376630465353, 'p_1': 0.2810773799658022, 'p_2': 0.5976621750573019}}\n",
            "Iteration 45: \n",
            "\t{'target': -2.18817195892334, 'params': {'B': 0.32440072958216415, 'delta': 0.0, 'lr_0': 0.002120665889779291, 'p_1': 0.45670629387786865, 'p_2': 0.5962772862576573}}\n",
            "Iteration 46: \n",
            "\t{'target': -2.3026410040855407, 'params': {'B': 0.12903517155926664, 'delta': 0.0, 'lr_0': 0.07720935818687365, 'p_1': 0.5911482490892472, 'p_2': 0.10313789703425771}}\n",
            "Iteration 47: \n",
            "\t{'target': -2.241534471511841, 'params': {'B': 2.049965888876177, 'delta': 0.0, 'lr_0': 0.09550254460989975, 'p_1': 0.5980045011976785, 'p_2': 0.27010839452260815}}\n",
            "Iteration 48: \n",
            "\t{'target': -2.0611610412597656, 'params': {'B': 2.8526275499467197, 'delta': 0.0, 'lr_0': 0.09579330610636519, 'p_1': 0.3405013866925163, 'p_2': 0.1041337983551652}}\n",
            "Iteration 49: \n",
            "\t{'target': -2.1112470245361328, 'params': {'B': 1.4995499251598519, 'delta': 0.0, 'lr_0': 0.08366977097824499, 'p_1': 0.5987196140146718, 'p_2': 0.10997652894936025}}\n",
            "Iteration 50: \n",
            "\t{'target': -2.1450853824615477, 'params': {'B': 1.2521125455026862, 'delta': 0.0, 'lr_0': 0.011163940378837738, 'p_1': 0.5961853875050623, 'p_2': 0.5821760228597329}}\n",
            "Iteration 51: \n",
            "\t{'target': -1.8848000917434693, 'params': {'B': 0.7963173787614072, 'delta': 0.0, 'lr_0': 0.0061718561067594345, 'p_1': 0.10009274233337442, 'p_2': 0.581587073512937}}\n",
            "Iteration 52: \n",
            "\t{'target': -2.302638053894043, 'params': {'B': 3.197003329022749, 'delta': 0.0, 'lr_0': 0.09787250591252544, 'p_1': 0.10027862328815959, 'p_2': 0.10699389084473812}}\n",
            "Iteration 53: \n",
            "\t{'target': -2.0778884887695312, 'params': {'B': 2.929077814674426, 'delta': 0.0, 'lr_0': 0.022240144492010935, 'p_1': 0.35900575578287053, 'p_2': 0.5976593687203692}}\n",
            "Iteration 54: \n",
            "\t{'target': -1.9707502961158752, 'params': {'B': 0.5319416392050936, 'delta': 0.0, 'lr_0': 0.042616519252022894, 'p_1': 0.10175818759819741, 'p_2': 0.10780350067232111}}\n",
            "Iteration 55: \n",
            "\t{'target': -2.037355661392212, 'params': {'B': 2.615198938802623, 'delta': 0.0, 'lr_0': 0.08149383027862643, 'p_1': 0.5998585248960245, 'p_2': 0.10580798163138608}}\n",
            "Iteration 56: \n",
            "\t{'target': -2.2941830158233643, 'params': {'B': 1.9386557990688444, 'delta': 0.0, 'lr_0': 0.0013377231250798877, 'p_1': 0.3786448206498684, 'p_2': 0.11104059630709337}}\n",
            "Iteration 57: \n",
            "\t{'target': -2.297316074371338, 'params': {'B': 1.9923104980803004, 'delta': 0.0, 'lr_0': 0.0005346717617116364, 'p_1': 0.10014336039316948, 'p_2': 0.39408119267253117}}\n",
            "Iteration 58: \n",
            "\t{'target': -2.302590913772583, 'params': {'B': 0.1855571450740034, 'delta': 0.0, 'lr_0': 0.04843493098745035, 'p_1': 0.3398312401009377, 'p_2': 0.5465410818577746}}\n",
            "Iteration 59: \n",
            "\t{'target': -2.188079605102539, 'params': {'B': 0.8903355318406521, 'delta': 0.0, 'lr_0': 0.06230963825633369, 'p_1': 0.2517710782963344, 'p_2': 0.20376453648185808}}\n",
            "Iteration 60: \n",
            "\t{'target': -1.4834372997283936, 'params': {'B': 2.4146108475991395, 'delta': 0.0, 'lr_0': 0.032962914455779056, 'p_1': 0.2786453717715882, 'p_2': 0.5741843989158423}}\n",
            "Iteration 61: \n",
            "\t{'target': -2.0867719383239747, 'params': {'B': 1.4007040194588054, 'delta': 0.0, 'lr_0': 0.08300004815431816, 'p_1': 0.33146402973308886, 'p_2': 0.4802665819250077}}\n",
            "Iteration 62: \n",
            "\t{'target': -1.92948579788208, 'params': {'B': 2.4304836295989634, 'delta': 0.0, 'lr_0': 0.04059537609091198, 'p_1': 0.2742560455615797, 'p_2': 0.2999912062264479}}\n",
            "Iteration 63: \n",
            "\t{'target': -1.991079330444336, 'params': {'B': 1.806852895051429, 'delta': 0.0, 'lr_0': 0.07309256048530884, 'p_1': 0.3558912137628528, 'p_2': 0.421634240189087}}\n",
            "Iteration 64: \n",
            "\t{'target': -2.2452869415283203, 'params': {'B': 3.049888517270779, 'delta': 0.0, 'lr_0': 0.009271436484030159, 'p_1': 0.12334939570718881, 'p_2': 0.26513033755582227}}\n",
            "Iteration 65: \n",
            "\t{'target': -1.7995770468711854, 'params': {'B': 1.3075990574999836, 'delta': 0.0, 'lr_0': 0.011832702553449122, 'p_1': 0.31479718289925307, 'p_2': 0.4822521217376915}}\n",
            "Iteration 66: \n",
            "\t{'target': -2.2789320945739746, 'params': {'B': 2.9552151906247084, 'delta': 0.0, 'lr_0': 0.008185939606361626, 'p_1': 0.37616179642257475, 'p_2': 0.13573121022787246}}\n",
            "Iteration 67: \n",
            "\t{'target': -2.0595375671386718, 'params': {'B': 0.7024719858551252, 'delta': 0.0, 'lr_0': 0.0688021137827687, 'p_1': 0.3130089041846038, 'p_2': 0.17918813633978273}}\n",
            "Iteration 68: \n",
            "\t{'target': -2.249162134170532, 'params': {'B': 0.503595500089095, 'delta': 0.0, 'lr_0': 0.0018258977062068592, 'p_1': 0.3583573712647694, 'p_2': 0.4470403996738046}}\n",
            "Iteration 69: \n",
            "\t{'target': -1.7717370986938477, 'params': {'B': 1.7039353813929754, 'delta': 0.0, 'lr_0': 0.03665194510504741, 'p_1': 0.3785805131245199, 'p_2': 0.1091132915260081}}\n",
            "Iteration 70: \n",
            "\t{'target': -1.9429967799186707, 'params': {'B': 0.458058647705365, 'delta': 0.0, 'lr_0': 0.04488222937107288, 'p_1': 0.33024852485162526, 'p_2': 0.3492561299681518}}\n",
            "Iteration 71: \n",
            "\t{'target': -2.1119728088378906, 'params': {'B': 2.5133596012936925, 'delta': 0.0, 'lr_0': 0.08117955241614412, 'p_1': 0.4235086952029693, 'p_2': 0.4095412627167164}}\n",
            "Iteration 72: \n",
            "\t{'target': -1.4239455461502075, 'params': {'B': 2.2722570170016443, 'delta': 0.0, 'lr_0': 0.03085236047244826, 'p_1': 0.40123863305704943, 'p_2': 0.24104471432003968}}\n",
            "Iteration 73: \n",
            "\t{'target': -2.0457565784454346, 'params': {'B': 2.087119667427462, 'delta': 0.0, 'lr_0': 0.060692067293805385, 'p_1': 0.4496378392469371, 'p_2': 0.5458222018358327}}\n",
            "Iteration 74: \n",
            "\t{'target': -2.0725135803222656, 'params': {'B': 3.1062985777638037, 'delta': 0.0, 'lr_0': 0.04935304434728445, 'p_1': 0.3731898614404068, 'p_2': 0.1897788064496347}}\n",
            "Iteration 75: \n",
            "\t{'target': -2.2905795574188232, 'params': {'B': 2.3634602108006573, 'delta': 0.0, 'lr_0': 0.0020829748222461948, 'p_1': 0.5061375647894752, 'p_2': 0.3604548416743095}}\n",
            "Iteration 76: \n",
            "\t{'target': -2.1091286897659303, 'params': {'B': 0.9869872648653869, 'delta': 0.0, 'lr_0': 0.05270760701849299, 'p_1': 0.22457799407846488, 'p_2': 0.1521529513040106}}\n",
            "Iteration 77: \n",
            "\t{'target': -2.161391496658325, 'params': {'B': 2.9670908907985867, 'delta': 0.0, 'lr_0': 0.09808616540675212, 'p_1': 0.13295804352174448, 'p_2': 0.5768782516345499}}\n",
            "Iteration 78: \n",
            "\t{'target': -1.4540584087371826, 'params': {'B': 2.179291111805235, 'delta': 0.0, 'lr_0': 0.03282882025098495, 'p_1': 0.4385573010020448, 'p_2': 0.5454303594238646}}\n",
            "Iteration 79: \n",
            "\t{'target': -2.2464585304260254, 'params': {'B': 1.7100324843886499, 'delta': 0.0, 'lr_0': 0.0919950721516412, 'p_1': 0.2824298556765986, 'p_2': 0.5835309571856113}}\n",
            "Iteration 80: \n",
            "\t{'target': -2.302595458507538, 'params': {'B': 0.1482139669549869, 'delta': 0.0, 'lr_0': 0.06300336880554516, 'p_1': 0.17464528855189268, 'p_2': 0.265339547556005}}\n",
            "Iteration 81: \n",
            "\t{'target': -2.1071298122406006, 'params': {'B': 1.6167230768508583, 'delta': 0.0, 'lr_0': 0.07854496074371235, 'p_1': 0.47610969843449236, 'p_2': 0.44349762098988654}}\n",
            "Iteration 82: \n",
            "\t{'target': -1.76346195602417, 'params': {'B': 0.959149879844672, 'delta': 0.0, 'lr_0': 0.03599101362205171, 'p_1': 0.500917649443382, 'p_2': 0.14788937010190265}}\n",
            "Iteration 83: \n",
            "\t{'target': -2.2950892448425293, 'params': {'B': 2.2719042704570374, 'delta': 0.0, 'lr_0': 0.0014412766787379981, 'p_1': 0.4485319119901392, 'p_2': 0.5969116563876968}}\n",
            "Iteration 84: \n",
            "\t{'target': -2.119574460029602, 'params': {'B': 0.6223137900238074, 'delta': 0.0, 'lr_0': 0.03138750238473765, 'p_1': 0.31046261956698773, 'p_2': 0.15193956333784484}}\n",
            "Iteration 85: \n",
            "\t{'target': -2.226900577545166, 'params': {'B': 2.5959162606004704, 'delta': 0.0, 'lr_0': 0.09000499755566822, 'p_1': 0.31269198102621354, 'p_2': 0.5400328747366112}}\n",
            "Iteration 86: \n",
            "\t{'target': -1.8669359683990479, 'params': {'B': 3.07372544837438, 'delta': 0.0, 'lr_0': 0.055021532467660374, 'p_1': 0.5140713875481188, 'p_2': 0.3697303013327158}}\n",
            "Iteration 87: \n",
            "\t{'target': -1.8941489458084106, 'params': {'B': 2.288512280805644, 'delta': 0.0, 'lr_0': 0.06644877617869817, 'p_1': 0.5266960071368776, 'p_2': 0.5203921636432505}}\n",
            "Iteration 88: \n",
            "\t{'target': -2.272987985610962, 'params': {'B': 0.3132266094020376, 'delta': 0.0, 'lr_0': 0.05791038424871959, 'p_1': 0.3821930237768121, 'p_2': 0.4350046684188169}}\n",
            "Iteration 89: \n",
            "\t{'target': -2.2978386878967285, 'params': {'B': 2.8479895819104084, 'delta': 0.0, 'lr_0': 0.0009155149852143695, 'p_1': 0.46010755587284946, 'p_2': 0.5080108182143541}}\n",
            "Iteration 90: \n",
            "\t{'target': -2.199273265838623, 'params': {'B': 0.8674408301777653, 'delta': 0.0, 'lr_0': 0.045178465738364496, 'p_1': 0.4191553795741141, 'p_2': 0.5954551506964944}}\n",
            "Iteration 91: \n",
            "\t{'target': -2.088059425354004, 'params': {'B': 2.4121031035088913, 'delta': 0.0, 'lr_0': 0.07696208886082866, 'p_1': 0.2906474958196811, 'p_2': 0.5840697119999313}}\n",
            "Iteration 92: \n",
            "\t{'target': -2.177536385536194, 'params': {'B': 1.4725798788281912, 'delta': 0.0, 'lr_0': 0.054838327370591106, 'p_1': 0.42476257472122847, 'p_2': 0.17085357346810512}}\n",
            "Iteration 93: \n",
            "\t{'target': -2.1151313519477846, 'params': {'B': 0.32829267287813113, 'delta': 0.0, 'lr_0': 0.050038829309489684, 'p_1': 0.5836682413184295, 'p_2': 0.35303513535154984}}\n",
            "Iteration 94: \n",
            "\t{'target': -1.829990267753601, 'params': {'B': 2.4396835820069507, 'delta': 0.0, 'lr_0': 0.045190088799814725, 'p_1': 0.1173165913788706, 'p_2': 0.5431851698743915}}\n",
            "Iteration 95: \n",
            "\t{'target': -2.319891929626465, 'params': {'B': 1.735812711685115, 'delta': 0.0, 'lr_0': 0.08402199183936317, 'p_1': 0.1623572503235783, 'p_2': 0.1650413873830968}}\n",
            "Iteration 96: \n",
            "\t{'target': -1.8370393514633179, 'params': {'B': 2.561006052221371, 'delta': 0.0, 'lr_0': 0.04836269346674877, 'p_1': 0.30375265899791126, 'p_2': 0.5867053945330141}}\n",
            "Iteration 97: \n",
            "\t{'target': -1.4354487657546997, 'params': {'B': 2.0124815161250496, 'delta': 0.0, 'lr_0': 0.02763312127880752, 'p_1': 0.3349999316027311, 'p_2': 0.1261932535570606}}\n",
            "Iteration 98: \n",
            "\t{'target': -1.301388100862503, 'params': {'B': 1.4296759215761887, 'delta': 0.0, 'lr_0': 0.02071748845816702, 'p_1': 0.16921397234638572, 'p_2': 0.17784464794455315}}\n",
            "Iteration 99: \n",
            "\t{'target': -1.8023591041564941, 'params': {'B': 2.0058868371034886, 'delta': 0.0, 'lr_0': 0.04832713005574424, 'p_1': 0.11012253176443518, 'p_2': 0.36813079508829705}}\n"
          ],
          "name": "stdout"
        }
      ]
    },
    {
      "cell_type": "code",
      "metadata": {
        "id": "V4HqRwgPE_Gf",
        "colab_type": "code",
        "colab": {}
      },
      "source": [
        ""
      ],
      "execution_count": 0,
      "outputs": []
    }
  ]
}